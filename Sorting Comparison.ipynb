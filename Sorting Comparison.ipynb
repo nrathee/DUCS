{
 "cells": [
  {
   "cell_type": "code",
   "execution_count": 18,
   "metadata": {},
   "outputs": [],
   "source": [
    "import random\n",
    "def insort(array,comparisons=0):\n",
    "    sort=[array[0]]#sorted array initialized with first element of input\n",
    "    for i in range(1,len(array)):#loop through input array\n",
    "        for z in range(0,len(sort)):#loop through sorted array\n",
    "            if array[i]>sort[z]:\n",
    "                comparisons+=1\n",
    "                if z==len(sort)-1:#end of sorted array\n",
    "                    sort.append(array[i])#just paste at end\n",
    "                continue\n",
    "            if array[i]<=sort[z]:# if true, we know where to place element from input array into sorted array\n",
    "                comparisons+=1\n",
    "                sort.insert(z,array[i])\n",
    "                break\n",
    "    return comparisons\n",
    "#####################################\n",
    "def quick(array,left=0,right=-1,comparisons=0):\n",
    "    if right<0:#right<0 only initially\n",
    "        right=len(array)-1\n",
    "    L,R=left,right#backup of left and right\n",
    "    P=L#random.randint(L,R)\n",
    "    pivot=array[P]\n",
    "    #left loop\n",
    "    while(left<right):\n",
    "        for left in range(left,R+1):#move left to its position\n",
    "            if array[left]>pivot:\n",
    "                break\n",
    "            else:\n",
    "                comparisons+=1\n",
    "        for right in range(right,L-1,-1):#move right to its position\n",
    "            if array[right]<pivot:\n",
    "                break\n",
    "            else:\n",
    "                comparisons+=1\n",
    "        if left<right:\n",
    "            array[left],array[right]=array[right],array[left]#swap left and right\n",
    "    if P<=right:#swap right with pivot\n",
    "        array[right],array[P]=pivot,array[right]\n",
    "        P=right\n",
    "    else:#swap left with pivot\n",
    "        array[left],array[P]=pivot,array[left]\n",
    "        P=left\n",
    "    c1,c2=0,0#contains number of comparisons from sub problems\n",
    "    if P-L>=2:\n",
    "        c1=quick(array,L,P-1)\n",
    "    if R-P>=2:\n",
    "        c2=quick(array,P+1,R)\n",
    "    return c1+c2+comparisons\n",
    "\n",
    "   \n",
    "#####################################################\n",
    "def merge(a1,a2,j=0,k=0,comparisons=0):#a1 and a2 are to be merged in a3, j and k iterate through a1 and a2 respectively\n",
    "    a3=[]#contains sorted array\n",
    "    for i in range(0,len(a1)+len(a2)):#final length of a3 basically\n",
    "        if j<len(a1) and (k>=len(a2) or a1[j]<=a2[k]) :\n",
    "            # if a1 has not been copied completely AND (all of a2 as been copied OR a1 has smaller element)\n",
    "            if k>=len(a2):#a2 has nothing left\n",
    "                a3.append(a1[j:len(a1)])#copy remaining a1\n",
    "                return a3,comparisons\n",
    "            else:\n",
    "                a3.append(a1[j])\n",
    "                j+=1\n",
    "        else:\n",
    "            if j>=len(a1):#a1 has nothing left\n",
    "                a3.append(a1[k:len(a2)])#copy remaining a2\n",
    "                return a3,comparisons\n",
    "            else:\n",
    "                a3.append(a2[k])\n",
    "                k+=1\n",
    "        comparisons+=1\n",
    "    return a3,comparisons\n",
    "def msort(ar,comparisons=0):\n",
    "    if len(ar)==2:#if input length is two, we just need to compare once and swap if required\n",
    "        if ar[0]>ar[1]:\n",
    "            ar[0],ar[1]=ar[1],ar[0]\n",
    "        return ar,1\n",
    "    if len(ar)==1:#if input length 1, theres nothing to do\n",
    "        return ar,0\n",
    "    else:\n",
    "        half=int(len(ar)/2)\n",
    "        x=msort(ar[:half])#first half\n",
    "        y=msort(ar[half:])#second half\n",
    "        return merge(x[0],y[0],0,0,x[1]+y[1])#x[0] contains sorted array, x[1] contains number of comparisons done to generate it\n",
    "########################################\n",
    "   \n",
    "            "
   ]
  },
  {
   "cell_type": "code",
   "execution_count": 27,
   "metadata": {},
   "outputs": [
    {
     "name": "stdout",
     "output_type": "stream",
     "text": [
      "('Quick', [38.5, 131.5, 295.0, 504.5, 826.5, 1204.0, 1669.5, 2275.0, 2903.5, 3612.0, 4413.5, 5372.0, 6388.5, 7500.5, 8733.0, 10208.0, 11585.0, 13357.5, 14926.5, 16584.5, 18472.0, 20346.0, 22329.5, 24525.5, 26818.0, 29337.5, 31861.5, 34618.5, 37385.0, 40220.0, 43123.5, 46239.0, 49199.5, 52377.5, 55680.0, 59225.0, 62878.0, 66746.5, 70619.0, 74610.5, 78744.5, 82880.0, 87167.0, 91688.5, 96962.5, 101948.5, 107026.0, 111990.5, 117205.0, 122519.5, 127644.0, 133766.5, 139430.0, 145462.0, 151207.0, 157037.0, 163102.5, 169333.0, 176064.5, 182881.0, 189557.5, 196322.5, 203684.0, 210451.5, 218678.5, 226372.0, 233904.0, 241899.0, 249357.5, 257051.5, 265337.5, 273400.0, 282044.0, 290399.5, 298769.5, 307890.5, 316735.0, 325304.5, 334389.5, 343659.0, 352587.0, 362140.5, 371375.0, 380979.0, 391956.0, 402219.0, 413334.5, 423567.5, 434224.0, 444491.5, 456127.0, 466239.5, 476820.5, 487993.5, 499715.5, 511387.5, 522704.0, 535065.5, 547601.0, 559230.0])\n",
      "('Merge', [24.5, 89.0, 203.0, 378.0, 610.5, 892.5, 1256.5, 1690.0, 2178.5, 2735.5, 3363.5, 4058.0, 4821.0, 5622.5, 6509.5, 7508.5, 8542.5, 9659.5, 10836.5, 12111.0, 13466.0, 14901.5, 16405.5, 17980.5, 19599.0, 21366.0, 23183.0, 25104.0, 27102.5, 29069.0, 31177.5, 33407.5, 35655.5, 38006.5, 40377.5, 42824.5, 45454.0, 48143.0, 50961.0, 53799.0, 56781.0, 59860.5, 63042.5, 66227.0, 69476.0, 72906.5, 76382.5, 79888.0, 83493.0, 87180.0, 90964.5, 94877.0, 98903.0, 103090.5, 107314.0, 111585.0, 115930.5, 120400.0, 124962.5, 129580.0, 134387.5, 139243.5, 144207.5, 149150.0, 154142.5, 159271.0, 164457.5, 169731.0, 175047.0, 180346.0, 185805.5, 191272.5, 196934.0, 202688.5, 208556.5, 214556.0, 220742.5, 227102.5, 233491.0, 239885.5, 246505.5, 253037.5, 259718.5, 266654.0, 273559.0, 280647.0, 287669.0, 294797.0, 302030.5, 309308.0, 316714.5, 324150.5, 331635.0, 339343.0, 347091.0, 354930.5, 362839.5, 370811.5, 378825.0, 387033.5])\n",
      "('Insertion', [30.0, 123.5, 376.5, 764.5, 1379.0, 2285.5, 3664.5, 5285.5, 7559.5, 10136.0, 13236.5, 16938.0, 20974.5, 25972.5, 31656.5, 38236.5, 45711.5, 53872.5, 63027.0, 73005.0, 84175.0, 96755.5, 110120.0, 125403.0, 140799.5, 158446.0, 176908.0, 195677.5, 217629.0, 240422.0, 264424.0, 290936.5, 317640.0, 347046.0, 378012.0, 409780.5, 445398.5, 482974.5, 520309.5, 559459.0, 601392.0, 644334.5, 690133.5, 739733.0, 788969.0, 844005.5, 896843.0, 952780.0, 1014086.5, 1075826.5, 1139810.0, 1207060.5, 1276472.5, 1349859.5, 1427257.5, 1502884.5, 1583893.0, 1666220.5, 1754400.0, 1844208.5, 1941635.0, 2037825.0, 2135791.5, 2239403.0, 2345337.5, 2452197.0, 2561991.5, 2678430.0, 2798158.5, 2919953.5, 3044876.5, 3172569.0, 3308445.5, 3443492.0, 3587861.0, 3736901.0, 3892011.5, 4045144.5, 4200821.0, 4363208.5, 4532224.5, 4700914.0, 4869752.0, 5043564.5, 5216071.5, 5396558.0, 5586712.5, 5786539.0, 5985839.0, 6189145.0, 6391943.5, 6602850.5, 6818902.0, 7042325.5, 7266318.0, 7491854.0, 7724319.5, 7969837.0, 8218343.5, 8470231.5])\n"
     ]
    }
   ],
   "source": [
    "samples=2#Number of samples\n",
    "sum1=0#Number of comparisons done by msort\n",
    "sum2=0#comparisons by quicksort\n",
    "sum3=0#comparisons by insort\n",
    "NSize=[]#input size\n",
    "insertion_sort=[]#each element stores number of comparisons for a given value of N\n",
    "quick_sort=[]\n",
    "merge_sort=[]\n",
    "step=10#distance between each n value\n",
    "\n",
    "for a in range(1,101):#N values from 1 to 1000\n",
    "    NSize.append(a*step)\n",
    "    for b in range(0,samples):#runs algo \"samples\" times\n",
    "        inputlist=[]#contains unsorted input\n",
    "        for c in range(0,10*a):#generates random input\n",
    "                inputlist.append(random.randint(1,1000))\n",
    "        sum1+=msort(inputlist)[1]#msort returns array of size two, first element is sorted array, second is number of comparisons\n",
    "        sum3+=insort(inputlist)\n",
    "        sum2+=quick(inputlist)\n",
    "    quick_sort.append(float(sum2)/samples)#divide by samples to get average\n",
    "    merge_sort.append(float(sum1)/samples)\n",
    "    insertion_sort.append(float(sum3)/samples)\n",
    "print('Quick',quick_sort)\n",
    "print('Merge',merge_sort)\n",
    "print('Insertion',insertion_sort)\n",
    "\n"
   ]
  },
  {
   "cell_type": "code",
   "execution_count": 23,
   "metadata": {},
   "outputs": [
    {
     "name": "stdout",
     "output_type": "stream",
     "text": [
      "(array([ 1.27630481e+01, -5.09565410e+03,  4.39265097e+05]), array([ 6.31151402e-01, -8.24717026e+01,  5.83114297e+03]), array([ 4.27548121e-01, -4.46321558e+01,  2.99126203e+03]))\n"
     ]
    },
    {
     "data": {
      "image/png": "[encoded data removed]",
      "text/plain": [
       "<Figure size 432x288 with 1 Axes>"
      ]
     },
     "metadata": {},
     "output_type": "display_data"
    }
   ],
   "source": [
    "import numpy as np#provides polynomial fitting libraries\n",
    "import matplotlib.pyplot as plt# for plotting\n",
    "plt.plot(NSize,quick_sort)#x axis contains n size as 10,20,30 y axis contains average number of comparisons for that\n",
    "plt.plot(NSize,merge_sort)\n",
    "plt.plot(NSize,insertion_sort)\n",
    "plt.legend(['quick','merge','insertion'])#legend for graph\n",
    "fin=np.polyfit(NSize,insertion_sort,2)#returns coefficients of polynomial fitting of order 2\n",
    "fq=np.polyfit(NSize,quick_sort,2)\n",
    "fm=np.polyfit(NSize,merge_sort,2)\n",
    "print(fin,fq,fm)\n",
    "plt.show()#shows final graph"
   ]
  }
 ],
 "metadata": {
  "kernelspec": {
   "display_name": "Python 2",
   "language": "python",
   "name": "python2"
  },
  "language_info": {
   "codemirror_mode": {
    "name": "ipython",
    "version": 2
   },
   "file_extension": ".py",
   "mimetype": "text/x-python",
   "name": "python",
   "nbconvert_exporter": "python",
   "pygments_lexer": "ipython2",
   "version": "2.7.15"
  }
 },
 "nbformat": 4,
 "nbformat_minor": 2
}
