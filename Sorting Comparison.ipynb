{
 "cells": [
  {
   "cell_type": "code",
   "execution_count": 169,
   "metadata": {},
   "outputs": [],
   "source": [
    "import csv\n",
    "import random\n",
    "def insort(array,comparisons=0):\n",
    "    sort=[array[0]]\n",
    "    for i in range(1,len(array)):\n",
    "        for z in range(0,len(sort)):\n",
    "            if array[i]>sort[z]:\n",
    "                comparisons+=1\n",
    "                if z==len(sort)-1:\n",
    "                    sort.append(array[i])\n",
    "                continue\n",
    "            if array[i]<=sort[z]:\n",
    "                comparisons+=1\n",
    "                sort.insert(z,array[i])\n",
    "                break\n",
    "    return comparisons\n",
    "#####################################\n",
    "def quick(array,left=0,right=-1,comparisons=0):\n",
    "    if right<0:\n",
    "        right=len(array)-1\n",
    "    L,R=left,right\n",
    "    P=L#random.randint(L,R)\n",
    "    pivot=array[P]\n",
    "    #left loop\n",
    "    while(left<right):\n",
    "        for left in range(left,R+1):\n",
    "            if array[left]>pivot:\n",
    "                break\n",
    "            else:\n",
    "                comparisons+=1\n",
    "        for right in range(right,L-1,-1):\n",
    "            if array[right]<pivot:\n",
    "                break\n",
    "            else:\n",
    "                comparisons+=1\n",
    "        if left<right:\n",
    "            array[left],array[right]=array[right],array[left]\n",
    "    if P<=right:\n",
    "        array[right],array[P]=pivot,array[right]\n",
    "        P=right\n",
    "    else:\n",
    "        array[left],array[P]=pivot,array[left]\n",
    "        P=left\n",
    "    c1,c2=0,0\n",
    "    if P-L>=2:\n",
    "        c1=quick(array,L,P-1)\n",
    "    if R-P>=2:\n",
    "        c2=quick(array,P+1,R)\n",
    "    return c1+c2+comparisons\n",
    "\n",
    "   \n",
    "#####################################################\n",
    "def merge(a1,a2,j=0,k=0,comparisons=0):\n",
    "    a3=[]\n",
    "    for i in range(0,len(a1)+len(a2)):\n",
    "        if j<len(a1) and (k>=len(a2) or a1[j]<=a2[k]) :\n",
    "            a3.append(a1[j])\n",
    "            j+=1\n",
    "        else:\n",
    "            a3.append(a2[k])\n",
    "            k+=1\n",
    "        comparisons+=1\n",
    "    return a3,comparisons\n",
    "def msort(ar,comparisons=0):\n",
    "    if len(ar)==2:\n",
    "        if ar[0]>ar[1]:\n",
    "            ar[0],ar[1]=ar[1],ar[0]\n",
    "        return ar,1\n",
    "    if len(ar)==1:\n",
    "        return ar,0\n",
    "    else:\n",
    "        half=int(len(ar)/2)\n",
    "        x=msort(ar[:half])\n",
    "        y=msort(ar[half:])\n",
    "        return merge(x[0],y[0],0,0,x[1]+y[1])\n",
    "########################################\n",
    "   \n",
    "            "
   ]
  },
  {
   "cell_type": "code",
   "execution_count": 202,
   "metadata": {},
   "outputs": [
    {
     "name": "stdout",
     "output_type": "stream",
     "text": [
      "Quick [33, 129, 277, 515, 772, 1095, 1555, 2124, 2762, 3450, 4310, 5195, 6112, 7204, 8383, 9627, 10996, 12480, 14111, 15881]\n",
      "Merge [30, 110, 244, 444, 712, 1040, 1440, 1920, 2480, 3116, 3822, 4598, 5448, 6388, 7418, 8538, 9748, 11048, 12438, 13910]\n",
      "Insertion [27, 124, 350, 706, 1361, 2266, 3549, 5038, 7237, 9844, 13163, 16968, 20840, 26123, 32180, 38480, 45232, 52998, 62710, 72548]\n"
     ]
    }
   ],
   "source": [
    "samples=1\n",
    "sum1=0\n",
    "sum2=0\n",
    "sum3=0\n",
    "NSize=[]\n",
    "insertion_sort=[]\n",
    "quick_sort=[]\n",
    "merge_sort=[]\n",
    "\n",
    "for a in range(1,21):\n",
    "    NSize.append(a*10)\n",
    "    for b in range(0,samples):\n",
    "        inputlist=[]\n",
    "        for c in range(0,10*a):\n",
    "                inputlist.append(random.randint(1,1000))\n",
    "        sum1+=msort(inputlist)[1]\n",
    "        sum3+=insort(inputlist)\n",
    "        sum2+=quick(inputlist)\n",
    "    quick_sort.append(int(sum2/samples))\n",
    "    merge_sort.append(int(sum1/samples))\n",
    "    insertion_sort.append(int(sum3/samples))\n",
    "print('Quick',quick_sort)\n",
    "print('Merge',merge_sort)\n",
    "print('Insertion',insertion_sort)\n",
    "\n"
   ]
  },
  {
   "cell_type": "code",
   "execution_count": 240,
   "metadata": {},
   "outputs": [
    {
     "name": "stdout",
     "output_type": "stream",
     "text": [
      "[ 2.75063910e+00 -2.19927895e+02  4.20795789e+03] [  0.45340567 -13.35481545 246.43421053] [  0.39074732  -9.94174983 181.25964912]\n"
     ]
    },
    {
     "data": {
      "image/png": "[encoded data removed]",
      "text/plain": [
       "<Figure size 432x288 with 1 Axes>"
      ]
     },
     "metadata": {},
     "output_type": "display_data"
    }
   ],
   "source": [
    "import numpy as np\n",
    "import matplotlib.pyplot as plt\n",
    "plt.plot(NSize,quick_sort)\n",
    "plt.plot(NSize,merge_sort)\n",
    "plt.plot(NSize,insertion_sort)\n",
    "plt.legend(['quick','merge','insertion'])\n",
    "fin=np.polyfit(NSize,insertion_sort,2)\n",
    "fq=np.polyfit(NSize,quick_sort,2)\n",
    "fm=np.polyfit(NSize,merge_sort,2)\n",
    "print(fin,fq,fm)"
   ]
  }
 ],
 "metadata": {
  "kernelspec": {
   "display_name": "Python 3",
   "language": "python",
   "name": "python3"
  },
  "language_info": {
   "codemirror_mode": {
    "name": "ipython",
    "version": 3
   },
   "file_extension": ".py",
   "mimetype": "text/x-python",
   "name": "python",
   "nbconvert_exporter": "python",
   "pygments_lexer": "ipython3",
   "version": "3.6.5"
  }
 },
 "nbformat": 4,
 "nbformat_minor": 2
}
